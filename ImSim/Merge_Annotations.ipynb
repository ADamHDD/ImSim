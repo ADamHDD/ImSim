{
 "cells": [
  {
   "cell_type": "code",
   "execution_count": 1,
   "metadata": {},
   "outputs": [],
   "source": [
    "# Path to MSCOCO annotations\n",
    "captions_path = \"./Data/captions_val2014.json\"\n",
    "\n",
    "annotations_merged_path = './Data/val_merged.json'"
   ]
  },
  {
   "cell_type": "code",
   "execution_count": 2,
   "metadata": {},
   "outputs": [],
   "source": [
    "all_images = []"
   ]
  },
  {
   "cell_type": "code",
   "execution_count": 3,
   "metadata": {},
   "outputs": [],
   "source": [
    "import json\n",
    "\n",
    "with open(captions_path, \"r\") as read_file:\n",
    "    data = json.load(read_file)\n",
    "\n",
    "images = data[\"images\"]\n",
    "\n",
    "images_dict = {}\n",
    "file_name_to_dict = {}\n",
    "\n",
    "for image in images:\n",
    "    obj = {\"file_name\" : image[\"file_name\"].lower(), \"image_id\" : image[\"id\"], \"captions\" : []}\n",
    "    images_dict[image[\"id\"]] = obj\n",
    "    file_name_to_dict[image[\"file_name\"].lower()] = obj\n",
    "\n",
    "annotations = data[\"annotations\"]\n",
    "\n",
    "for annotation in annotations:\n",
    "    id = annotation[\"image_id\"]\n",
    "    caption = annotation[\"caption\"]\n",
    "    \n",
    "    images_dict[id][\"captions\"].append(caption)\n",
    "\n",
    "# Going through it like this to preserve the order of the files\n",
    "for image in images:\n",
    "    all_images.append(file_name_to_dict[image[\"file_name\"].lower()])\n",
    "\n",
    "#for key in images_dict:\n",
    "#    all_images.append(images_dict[key])"
   ]
  },
  {
   "cell_type": "code",
   "execution_count": 4,
   "metadata": {},
   "outputs": [],
   "source": [
    "with open(annotations_merged_path, 'w') as outfile:\n",
    "    json.dump({\"images\" : all_images}, outfile, sort_keys=True, indent=4)"
   ]
  },
  {
   "cell_type": "code",
   "execution_count": null,
   "metadata": {},
   "outputs": [],
   "source": []
  }
 ],
 "metadata": {
  "kernelspec": {
   "display_name": "Python [conda env:tensorflow]",
   "language": "python",
   "name": "conda-env-tensorflow-py"
  },
  "language_info": {
   "codemirror_mode": {
    "name": "ipython",
    "version": 3
   },
   "file_extension": ".py",
   "mimetype": "text/x-python",
   "name": "python",
   "nbconvert_exporter": "python",
   "pygments_lexer": "ipython3",
   "version": "3.5.5"
  }
 },
 "nbformat": 4,
 "nbformat_minor": 2
}
