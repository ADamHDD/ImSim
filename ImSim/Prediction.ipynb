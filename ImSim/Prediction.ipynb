{
 "cells": [
  {
   "cell_type": "code",
   "execution_count": 1,
   "metadata": {},
   "outputs": [],
   "source": [
    "# Load the DSSM model and performs prediction"
   ]
  },
  {
   "cell_type": "code",
   "execution_count": 6,
   "metadata": {},
   "outputs": [],
   "source": [
    "# Paths and constants\n",
    "BatchSize = 256\n",
    "\n",
    "db_path = './model/mediaDb.v1.sqlite'\n",
    "\n",
    "db_folder = \"val2014\"\n",
    "\n",
    "session_meta_path = './model/sess_stored_old_training.meta'\n",
    "session_path = './model/sess_stored_old_training'\n"
   ]
  },
  {
   "cell_type": "code",
   "execution_count": 7,
   "metadata": {},
   "outputs": [],
   "source": [
    "import numpy as np\n",
    "import tensorflow as tf\n",
    "import random"
   ]
  },
  {
   "cell_type": "code",
   "execution_count": 8,
   "metadata": {},
   "outputs": [
    {
     "name": "stdout",
     "output_type": "stream",
     "text": [
      "['/device:GPU:0']\n"
     ]
    }
   ],
   "source": [
    "from tensorflow.python.client import device_lib\n",
    "\n",
    "def get_available_gpus():\n",
    "    local_device_protos = device_lib.list_local_devices()\n",
    "    return [x.name for x in local_device_protos if x.device_type == 'GPU']\n",
    "print(get_available_gpus())"
   ]
  },
  {
   "cell_type": "code",
   "execution_count": 9,
   "metadata": {},
   "outputs": [],
   "source": [
    "saver = tf.train.import_meta_graph(session_meta_path)"
   ]
  },
  {
   "cell_type": "code",
   "execution_count": 10,
   "metadata": {},
   "outputs": [],
   "source": [
    "init = tf.global_variables_initializer()\n",
    "sess = tf.Session(config=tf.ConfigProto(allow_soft_placement=True))\n",
    "sess.run(init)"
   ]
  },
  {
   "cell_type": "code",
   "execution_count": 11,
   "metadata": {},
   "outputs": [
    {
     "name": "stdout",
     "output_type": "stream",
     "text": [
      "INFO:tensorflow:Restoring parameters from ./model/sess_stored_old_training\n"
     ]
    }
   ],
   "source": [
    "saver.restore(sess, session_path)"
   ]
  },
  {
   "cell_type": "code",
   "execution_count": 12,
   "metadata": {},
   "outputs": [],
   "source": [
    "graph = tf.get_default_graph()\n",
    "\n",
    "# Get the output and input tensors. Prediction can be performed on exemplars by\n",
    "y_exemplar_pred = graph.get_tensor_by_name(\"model_1/y_exemplar_pred:0\")\n",
    "exemplar_placeholder = graph.get_tensor_by_name(\"exemplar_placeholder:0\")\n",
    "\n",
    "#sample\n",
    "#x = np.random.rand(10000, 1024)\n",
    "#sess.run(y_exemplar_pred, feed_dict={exemplar_placeholder : x})"
   ]
  },
  {
   "cell_type": "code",
   "execution_count": null,
   "metadata": {},
   "outputs": [],
   "source": []
  },
  {
   "cell_type": "code",
   "execution_count": 13,
   "metadata": {},
   "outputs": [
    {
     "name": "stdout",
     "output_type": "stream",
     "text": [
      "Column probably exists already\n",
      "Predicting and writing back to DB\n",
      "Count so far: 500\n",
      "Count so far: 1000\n",
      "Count so far: 1500\n",
      "Count so far: 2000\n",
      "Count so far: 2500\n",
      "Count so far: 3000\n",
      "Count so far: 3500\n",
      "Count so far: 4000\n",
      "Count so far: 4500\n",
      "Count so far: 5000\n",
      "Count so far: 5500\n",
      "Count so far: 6000\n",
      "Count so far: 6500\n",
      "Count so far: 7000\n",
      "Count so far: 7500\n",
      "Count so far: 8000\n",
      "Count so far: 8500\n",
      "Count so far: 9000\n",
      "Count so far: 9500\n",
      "Count so far: 10000\n",
      "Count so far: 10500\n",
      "Count so far: 11000\n",
      "Count so far: 11500\n",
      "Count so far: 12000\n",
      "Count so far: 12500\n",
      "Count so far: 13000\n",
      "Count so far: 13500\n",
      "Count so far: 14000\n",
      "Count so far: 14500\n",
      "Count so far: 15000\n",
      "Count so far: 15500\n",
      "Count so far: 16000\n",
      "Count so far: 16500\n",
      "Count so far: 17000\n",
      "Count so far: 17500\n",
      "Count so far: 18000\n",
      "Count so far: 18500\n",
      "Count so far: 19000\n",
      "Count so far: 19500\n",
      "Count so far: 20000\n",
      "Count so far: 20500\n",
      "Count so far: 21000\n",
      "Count so far: 21500\n",
      "Count so far: 22000\n",
      "Count so far: 22500\n",
      "Count so far: 23000\n",
      "Count so far: 23500\n",
      "Count so far: 24000\n",
      "Count so far: 24500\n",
      "Count so far: 25000\n",
      "Count so far: 25500\n",
      "Count so far: 26000\n",
      "Count so far: 26500\n",
      "Count so far: 27000\n",
      "Count so far: 27500\n",
      "Count so far: 28000\n",
      "Count so far: 28500\n",
      "Count so far: 29000\n",
      "Count so far: 29500\n",
      "Count so far: 30000\n",
      "Count so far: 30500\n",
      "Count so far: 31000\n",
      "Count so far: 31500\n",
      "Count so far: 32000\n",
      "Count so far: 32500\n",
      "Count so far: 33000\n",
      "Count so far: 33500\n",
      "Count so far: 34000\n",
      "Count so far: 34500\n",
      "Count so far: 35000\n",
      "Count so far: 35500\n",
      "Count so far: 36000\n",
      "Count so far: 36500\n",
      "Count so far: 37000\n",
      "Count so far: 37500\n",
      "Count so far: 38000\n",
      "Count so far: 38500\n",
      "Count so far: 39000\n",
      "Count so far: 39500\n",
      "Count so far: 40000\n",
      "Count so far: 40500\n",
      "\n",
      "Closing database\n",
      "Done!\n"
     ]
    }
   ],
   "source": [
    "import sqlite3\n",
    "import struct\n",
    "conn = sqlite3.connect(db_path)\n",
    "\n",
    "# Try adding DSSMEmbedding column to ItemEngineExemplar table. Will fail if it already exists, just ignore\n",
    "from sqlite3 import OperationalError\n",
    "try:\n",
    "    cur = conn.cursor()\n",
    "    cur.execute(\"ALTER TABLE ItemEngineExemplar ADD COLUMN ItemEngineExemplar_DSSMEmbedding BLOB\")\n",
    "except OperationalError:\n",
    "    print (\"Column probably exists already\")\n",
    "    \n",
    "count = 0\n",
    "cur = conn.cursor();\n",
    "update_cur = conn.cursor();\n",
    "cur.execute(\"SELECT Item_FileName as file, Folder_Path as path, ItemEngineExemplar_Exemplar as feature, ItemEngineExemplar_Id as id, ItemEngineExemplar_ItemId as itemId from ItemEngineExemplar, Folder, Item where ItemEngineExemplar_ItemId = Item_Id and Item_ParentFolderId = Folder_Id\")\n",
    "\n",
    "def process_batch(a, b):\n",
    "    if len(b) <= 0:\n",
    "        return\n",
    "   \n",
    "    outputs = sess.run(y_exemplar_pred, feed_dict={exemplar_placeholder : a})\n",
    "\n",
    "    for i in range(0, len(b)):\n",
    "        update_cur.execute(\"UPDATE ItemEngineExemplar SET ItemEngineExemplar_DSSMEmbedding = ? WHERE ItemEngineExemplar_Id=?\", [outputs[i], b[i]]);\n",
    "\n",
    "    conn.commit()\n",
    "    \n",
    "ids = []\n",
    "inputs = []\n",
    "\n",
    "print(\"Predicting and writing back to DB\")\n",
    "while True:\n",
    "    count = count + 1\n",
    "    \n",
    "    if count % 500 == 0:\n",
    "        print(\"Count so far: \" + str(count))\n",
    "        \n",
    "    row = cur.fetchone()\n",
    "    \n",
    "    # Make sure we're not done, that we're in the correct folder and that there exists exemplar vector.\n",
    "    if row == None:\n",
    "        break\n",
    "        \n",
    "    if row[1].lower().find(db_folder) == -1:\n",
    "        continue\n",
    "        \n",
    "    blob = row[2]\n",
    "    \n",
    "    if blob is None:\n",
    "        continue\n",
    "        \n",
    "    data = np.array(struct.unpack('1024f', blob))\n",
    "    \n",
    "    ids.append(row[3])\n",
    "    inputs.append(data)\n",
    "    \n",
    "    if len(ids) == BatchSize:\n",
    "        process_batch(inputs, ids)\n",
    "        ids = []\n",
    "        inputs = []\n",
    "        \n",
    "# Process any remaining inputs\n",
    "process_batch(inputs, ids)\n",
    "\n",
    "print()\n",
    "print(\"Closing database\")\n",
    "conn.close()\n",
    "print(\"Done!\")"
   ]
  },
  {
   "cell_type": "code",
   "execution_count": null,
   "metadata": {},
   "outputs": [],
   "source": []
  },
  {
   "cell_type": "code",
   "execution_count": null,
   "metadata": {},
   "outputs": [],
   "source": []
  },
  {
   "cell_type": "code",
   "execution_count": null,
   "metadata": {},
   "outputs": [],
   "source": []
  }
 ],
 "metadata": {
  "kernelspec": {
   "display_name": "Python [conda env:tfgpu]",
   "language": "python",
   "name": "conda-env-tfgpu-py"
  },
  "language_info": {
   "codemirror_mode": {
    "name": "ipython",
    "version": 3
   },
   "file_extension": ".py",
   "mimetype": "text/x-python",
   "name": "python",
   "nbconvert_exporter": "python",
   "pygments_lexer": "ipython3",
   "version": "3.5.5"
  }
 },
 "nbformat": 4,
 "nbformat_minor": 2
}
