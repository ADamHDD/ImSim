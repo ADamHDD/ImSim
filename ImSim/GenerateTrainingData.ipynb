{
 "cells": [
  {
   "cell_type": "code",
   "execution_count": 1,
   "metadata": {},
   "outputs": [],
   "source": [
    "# Path to pretrained W2V model, can be downloaded at https://drive.google.com/file/d/0B7XkCwpI5KDYNlNUTTlSS21pQmM/edit?usp=sharing\n",
    "w2v_vectors_path = '../Word2Vec/model/GoogleNews-vectors-negative300.bin'\n",
    "\n",
    "# Path to a text file where each line contains a stopword to be removed\n",
    "stopwords_path = './Data/stopwords.txt'\n",
    "\n",
    "# Path the the merged annotations, created by Merge_Annotations notebook\n",
    "annotations_merged_path = './Data/val_merged.json'\n",
    "\n",
    "# Path to the database\n",
    "db_path = '../Word2Vec/model/trainMediaDb.v1.sqlite'\n",
    "\n",
    "# Name of the DB folder from which to take the images\n",
    "db_folder = \"val2014\"\n",
    "\n",
    "# Output filename for the word embeddings array\n",
    "w2v_output_path = './Data/w2v_val2014.out'\n",
    "\n",
    "# Output filename for the exemplar array\n",
    "exemplar_output_path = './Data/exemplar_val2014.out'"
   ]
  },
  {
   "cell_type": "code",
   "execution_count": 2,
   "metadata": {},
   "outputs": [],
   "source": [
    "import json\n",
    "\n",
    "with open(annotations_merged_path, \"r\") as read_file:\n",
    "    data = json.load(read_file)\n",
    "\n",
    "all_images = data[\"images\"]\n",
    "file_name_to_dict = {}\n",
    "\n",
    "# Create a map between files names (from database) and index in image array\n",
    "pos = 0\n",
    "for i in range(0, len(all_images)):\n",
    "    file_name_to_dict[all_images[i][\"file_name\"]] = i"
   ]
  },
  {
   "cell_type": "code",
   "execution_count": 3,
   "metadata": {},
   "outputs": [
    {
     "name": "stdout",
     "output_type": "stream",
     "text": [
      "Fetching all feature vectors from database\n",
      "Error with johnny-mnemonic-blu-raycompre.jpg\n"
     ]
    }
   ],
   "source": [
    "# Fetch exemplar vectors from database and populate the image arrays\n",
    "import sqlite3\n",
    "import struct\n",
    "import numpy as np\n",
    "\n",
    "conn = sqlite3.connect(db_path)\n",
    "cur = conn.cursor()\n",
    "cur.execute(\"SELECT Item_FileName as file, Folder_Path as path, ItemEngineExemplar_Exemplar as feature, ItemEngineExemplar_Id as id, ItemEngineExemplar_ItemId as itemId from ItemEngineExemplar, Folder, Item where ItemEngineExemplar_ItemId = Item_Id and Item_ParentFolderId = Folder_Id\")\n",
    "\n",
    "print(\"Fetching all feature vectors from database\")\n",
    "\n",
    "while True:\n",
    "    row = cur.fetchone()\n",
    "    \n",
    "    if row == None:\n",
    "        break\n",
    "        \n",
    "    if row[1].lower().find(db_folder) == -1:\n",
    "        continue\n",
    "        \n",
    "    blob = row[2]\n",
    "    \n",
    "    if blob is None:\n",
    "        continue\n",
    "        \n",
    "    data = np.array(struct.unpack('1024f', blob))\n",
    "    file_name = row[0].lower()\n",
    "        \n",
    "    if file_name not in file_name_to_dict:\n",
    "        print(\"Error with \" + file_name)\n",
    "    else:\n",
    "        all_images[file_name_to_dict[file_name]][\"exemplar\"] = data"
   ]
  },
  {
   "cell_type": "code",
   "execution_count": 4,
   "metadata": {},
   "outputs": [
    {
     "name": "stderr",
     "output_type": "stream",
     "text": [
      "C:\\Users\\fejne\\AppData\\Local\\Continuum\\anaconda3\\envs\\tensorflow\\lib\\site-packages\\gensim\\utils.py:862: UserWarning: detected Windows; aliasing chunkize to chunkize_serial\n",
      "  warnings.warn(\"detected Windows; aliasing chunkize to chunkize_serial\")\n"
     ]
    }
   ],
   "source": [
    "# Load NLP.\n",
    "import gensim\n",
    "\n",
    "if 'model' not in globals():\n",
    "    model = gensim.models.KeyedVectors.load_word2vec_format(w2v_vectors_path, binary=True)\n",
    "\n",
    "#function to average all words vectors in a sentence\n",
    "def avg_sentence_vector(words, model, num_features):\n",
    "    featureVec = np.zeros((num_features,), dtype=\"float32\")\n",
    "    nwords = 0\n",
    "\n",
    "    for word in words:\n",
    "        nwords = nwords+1\n",
    "        featureVec = np.add(featureVec, model[word])\n",
    "\n",
    "    if nwords > 0:\n",
    "        featureVec = np.divide(featureVec, nwords)\n",
    "        \n",
    "    return featureVec\n",
    "\n",
    "def remove_stop_words(words, model, stopWords):\n",
    "    result = []\n",
    "    for word in words:\n",
    "        if word in model.vocab and word not in stopWords:\n",
    "            result.append(word)\n",
    "    \n",
    "    return result\n",
    "\n",
    "with open(stopwords_path) as f:\n",
    "    stopWords = f.read().split(\"\\n\")"
   ]
  },
  {
   "cell_type": "code",
   "execution_count": null,
   "metadata": {},
   "outputs": [],
   "source": []
  },
  {
   "cell_type": "code",
   "execution_count": 5,
   "metadata": {},
   "outputs": [
    {
     "name": "stdout",
     "output_type": "stream",
     "text": [
      "Generating word embeddings.....................................................................................................Converting to numpy arrays\n",
      "Storing numpy arrays to file\n",
      "Done\n"
     ]
    }
   ],
   "source": [
    "# Generate data to feed to DSSM\n",
    "\n",
    "x_w2v = []\n",
    "x_exemplar = []\n",
    "\n",
    "print(\"Generating word embeddings\", end='')\n",
    "count = 0\n",
    "\n",
    "for image in all_images:\n",
    "    if \"exemplar\" not in image:\n",
    "        continue\n",
    "        \n",
    "    for caption in image[\"captions\"]:\n",
    "        caption = remove_stop_words(caption.split(), model, stopWords)\n",
    "        embedding = avg_sentence_vector(caption, model, num_features=300)\n",
    "\n",
    "        x_w2v.append(embedding.tolist())\n",
    "        x_exemplar.append(image[\"exemplar\"])\n",
    "\n",
    "    if count % (len(all_images) // 100) == 0:\n",
    "        print(\".\", end = '')\n",
    "    \n",
    "    count = count + 1\n",
    "\n",
    "print(\"Converting to numpy arrays\")\n",
    "x_w2v = np.array(x_w2v).astype(np.float64)\n",
    "x_exemplar = np.array(x_exemplar).astype(np.float64)\n",
    "\n",
    "print(\"Storing numpy arrays to file\")\n",
    "np.save(w2v_output_path, x_w2v)\n",
    "np.save(exemplar_output_path, x_exemplar)\n",
    "print(\"Done\")\n"
   ]
  },
  {
   "cell_type": "code",
   "execution_count": null,
   "metadata": {},
   "outputs": [],
   "source": []
  },
  {
   "cell_type": "code",
   "execution_count": null,
   "metadata": {},
   "outputs": [],
   "source": []
  }
 ],
 "metadata": {
  "kernelspec": {
   "display_name": "Python [conda env:tensorflow]",
   "language": "python",
   "name": "conda-env-tensorflow-py"
  },
  "language_info": {
   "codemirror_mode": {
    "name": "ipython",
    "version": 3
   },
   "file_extension": ".py",
   "mimetype": "text/x-python",
   "name": "python",
   "nbconvert_exporter": "python",
   "pygments_lexer": "ipython3",
   "version": "3.5.5"
  }
 },
 "nbformat": 4,
 "nbformat_minor": 2
}
